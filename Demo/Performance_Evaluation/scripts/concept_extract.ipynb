{
 "cells": [
  {
   "attachments": {},
   "cell_type": "markdown",
   "metadata": {},
   "source": [
    "#### MetaMap UMLS Suite Test"
   ]
  },
  {
   "cell_type": "code",
   "execution_count": 8,
   "metadata": {},
   "outputs": [],
   "source": [
    "# Load MetaMap\n",
    "from pymetamap import MetaMap\n",
    "\n",
    "# Import os to make system calls\n",
    "import os\n",
    "\n",
    "# For pausing\n",
    "from time import sleep\n",
    "import pandas as pd\n",
    "\n"
   ]
  },
  {
   "cell_type": "code",
   "execution_count": 2,
   "metadata": {},
   "outputs": [
    {
     "name": "stdout",
     "output_type": "stream",
     "text": [
      "$Starting skrmedpostctl: \n",
      "started.\n",
      "$Starting wsdserverctl: \n",
      "started.\n",
      "loading properties file /home/cogems_nist/Desktop/CogEMS_NIST/EMS-Pipeline/Demo/public_mm/WSD_Server/config/disambServer.cfg\n",
      "WSD Server initializing disambiguation methods.\n",
      "WSD Server databases and disambiguation methods have been initialized.\n"
     ]
    }
   ],
   "source": [
    "# Setup UMLS Server\n",
    "metamap_base_dir = '../../public_mm/'\n",
    "metamap_bin_dir = 'bin/metamap16'\n",
    "metamap_pos_server_dir = 'bin/skrmedpostctl'\n",
    "metamap_wsd_server_dir = 'bin/wsdserverctl'\n",
    "\n",
    "# Start servers\n",
    "os.system(metamap_base_dir + metamap_pos_server_dir + ' start') # Part of speech tagger\n",
    "os.system(metamap_base_dir + metamap_wsd_server_dir + ' start') # Word sense disambiguation \n",
    "\n",
    "# Sleep a bit to give time for these servers to start up\n",
    "sleep(60)"
   ]
  },
  {
   "cell_type": "code",
   "execution_count": 13,
   "metadata": {},
   "outputs": [],
   "source": [
    "note1 = \"55 year old male found unconscious on the driver side passenger seat of his car is wife reported that he snorted a line of heroin before just prior to losing Consciousness patient originally presented unresponsive the pail with shallow ineffective respirations at a rate of about 5 with heart rate was 118 his blood pressure was 205 over 119 is blood glucose levels 126 his O2 saturation was nightwear 94% choir bag mask ventilation with something with the Tosh oxygen however after 0.25 mg of naloxone intravenously patient is now awake and breathing normally with Improvement Vital Signs and respiratory status and no longer needs supplemental oxygen.\"\n",
    "\n",
    "# note2 = \"Mr. Smith has been having pain in his knee for many weeks. It hurts when he walks. There is no swelling, erythema, or micromotion tenderness.\"\n",
    "#\n",
    "# note3 = \"Sandy Lemon has been having headaches for two months that are associated with blurry vision and numbness in her right arm.\"\n",
    "\n",
    "# Put them all together in a list\n",
    "note_list = [note1]\n",
    "\n"
   ]
  },
  {
   "attachments": {},
   "cell_type": "markdown",
   "metadata": {},
   "source": [
    "#### Initiate MetaMap Instance"
   ]
  },
  {
   "cell_type": "code",
   "execution_count": 4,
   "metadata": {},
   "outputs": [],
   "source": [
    "metam = MetaMap.get_instance(metamap_base_dir + metamap_bin_dir)"
   ]
  },
  {
   "cell_type": "code",
   "execution_count": 16,
   "metadata": {},
   "outputs": [
    {
     "name": "stderr",
     "output_type": "stream",
     "text": [
      "Berkeley DB databases (USAbase 2016AA strict model) are open.\n",
      "Static variants will come from table varsan in /home/cogems_nist/Desktop/CogEMS_NIST/EMS-Pipeline/Demo/public_mm/DB/DB.USAbase.2016AA.strict.\n",
      "Derivational Variants: Adj/noun ONLY.\n",
      "Variant generation mode: static.\n",
      "Established connection $stream(140633941955712) to TAGGER Server on localhost.\n",
      "Established connection $stream(140633952514720) to WSD Server on localhost.\n",
      "### WARNING: The show_cuis option has no effect on fielded_mmi_output output.\n",
      "\n",
      "metamap16.BINARY.Linux (2016)\n",
      "\n",
      "Control options:\n",
      "  lexicon=db\n",
      "  mm_data_year=2016AA\n",
      "  show_cuis\n",
      "  fielded_mmi_output\n",
      "  composite_phrases=4\n",
      "  word_sense_disambiguation\n",
      "  ignore_stop_phrases\n",
      "  sldi\n",
      "\n",
      "Processing 00000000.tx.1: '55 year old male found unconscious on the driver side passenger seat of his car is wife reported that he snorted a line of heroin before just prior to losing Consciousness patient originally presented unresponsive the pail with shallow ineffective respirations at a rate of about 5 with heart rate was 118 his blood pressure was 205 over 119 is blood glucose levels 126 his O2 saturation was nightwear 94% choir bag mask ventilation with something with the Tosh oxygen however after 0.25 mg of naloxone intravenously patient is now awake and breathing normally with Improvement Vital Signs and respiratory status and no longer needs supplemental oxygen.'\n"
     ]
    },
    {
     "name": "stdout",
     "output_type": "stream",
     "text": [
      "[ConceptMMI(index='00000000', mm='MMI', score='24.11', preferred_name='Oxygen saturation measurement', cui='C0523807', semtypes='[lbpr]', trigger='[\"O2 Saturation\"-tx-1-\"O2 saturation\"-noun-0]', location='TX', pos_info='375/13', tree_codes='E01.370.225.124.100.100.600;E01.370.370.380.600;E01.370.386.700.100.600;E05.200.124.100.100.600'), ConceptMMI(index='00000000', mm='MMI', score='19.31', preferred_name='Unconscious State', cui='C0041657', semtypes='[fndg]', trigger='[\"UNCONSCIOUS\"-tx-1-\"unconscious\"-adj-0]', location='TX', pos_info='24/11', tree_codes='C10.597.606.358.800;C23.888.592.604.359.800'), ConceptMMI(index='00000000', mm='MMI', score='19.21', preferred_name='Heroin', cui='C0011892', semtypes='[hops,orch,phsu]', trigger='[\"Heroin\"-tx-1-\"heroin\"-noun-0]', location='TX', pos_info='124/6', tree_codes='D03.132.577.249.562.445;D03.549.686.607.490;D03.605.497.607.490;D04.615.723.795.576.445'), ConceptMMI(index='00000000', mm='MMI', score='17.80', preferred_name='Blood Pressure', cui='C0005823', semtypes='[orgf]', trigger='[\"BLOOD PRESSURE\"-tx-1-\"blood pressure\"-noun-0]', location='TX', pos_info='311/14', tree_codes='E01.370.600.875.249;G09.330.380.076'), ConceptMMI(index='00000000', mm='MMI', score='17.80', preferred_name='heart rate', cui='C0018810', semtypes='[clna]', trigger='[\"Heart Rate\"-tx-1-\"heart rate\"-noun-0]', location='TX', pos_info='288/10', tree_codes='E01.370.600.875.500;G09.330.380.500'), ConceptMMI(index='00000000', mm='MMI', score='16.03', preferred_name='Naloxone', cui='C0027358', semtypes='[orch,phsu]', trigger='[\"NALOXONE\"-tx-1-\"naloxone\"-noun-0]', location='TX', pos_info='495/8', tree_codes='D03.132.577.249.706;D03.549.686.750;D03.605.497.750;D04.615.723.795.706'), ConceptMMI(index='00000000', mm='MMI', score='13.34', preferred_name='Patients', cui='C0030705', semtypes='[podg]', trigger='[\"*^patient\"-tx-1-\"patient\"-noun-0]', location='TX', pos_info='[173/7],[518/7]', tree_codes='M01.643'), ConceptMMI(index='00000000', mm='MMI', score='13.14', preferred_name='Oxygen', cui='C0030054', semtypes='[elii,phsu]', trigger='[\"OXYGEN\"-tx-1-\"oxygen\"-noun-0]', location='TX', pos_info='647/6', tree_codes='D01.268.185.550;D01.362.670;x.x.x.x'), ConceptMMI(index='00000000', mm='MMI', score='13.01', preferred_name='Respiration', cui='C0035203', semtypes='[phsf]', trigger='[\"Breathing\"-tx-1-\"breathing\"-noun-0]', location='TX', pos_info='543/9', tree_codes='G09.772.770.755'), ConceptMMI(index='00000000', mm='MMI', score='13.01', preferred_name='Masks', cui='C0024861', semtypes='[medd]', trigger='[\"MASK\"-tx-1-\"mask\"-noun-0]', location='TX', pos_info='417/4', tree_codes='E07.325.877.500;E07.662.438;E07.700.500;E07.858.594.750;J01.637.708.500'), ConceptMMI(index='00000000', mm='MMI', score='5.18', preferred_name='Patient need for (contextual qualifier)', cui='C0686904', semtypes='[ftcn]', trigger='[\"needs\"-tx-1-\"needs\"-verb-0]', location='TX', pos_info='628/5', tree_codes=''), ConceptMMI(index='00000000', mm='MMI', score='5.18', preferred_name='Present', cui='C0150312', semtypes='[qnco]', trigger='[\"Found\"-tx-1-\"found\"-verb-0]', location='TX', pos_info='18/5', tree_codes=''), ConceptMMI(index='00000000', mm='MMI', score='5.18', preferred_name='Presentation', cui='C0449450', semtypes='[idcn]', trigger='[\"Presented\"-tx-1-\"presented\"-verb-0]', location='TX', pos_info='192/9', tree_codes=''), ConceptMMI(index='00000000', mm='MMI', score='5.18', preferred_name='Reporting', cui='C0700287', semtypes='[hlca]', trigger='[\"Reported\"-tx-1-\"reported\"-verb-0]', location='TX', pos_info='89/8', tree_codes=''), ConceptMMI(index='00000000', mm='MMI', score='5.18', preferred_name='Respiratory Status:-:Point in time:^Patient:-', cui='C2598168', semtypes='[clna]', trigger='[\"Respiratory status\"-tx-1-\"respiratory status\"-noun-0]', location='TX', pos_info='595/18', tree_codes=''), ConceptMMI(index='00000000', mm='MMI', score='5.18', preferred_name='Unresponsive to Treatment', cui='C0205269', semtypes='[ftcn]', trigger='[\"Unresponsive\"-tx-1-\"unresponsive\"-adj-0]', location='TX', pos_info='202/12', tree_codes=''), ConceptMMI(index='00000000', mm='MMI', score='5.18', preferred_name='wife', cui='C0242665', semtypes='[famg]', trigger='[\"Wife\"-tx-1-\"wife\"-noun-0]', location='TX', pos_info='84/4', tree_codes=''), ConceptMMI(index='00000000', mm='MMI', score='3.98', preferred_name='Long', cui='C0205166', semtypes='[qlco]', trigger='[\"Long\"-tx-1-\"longer\"-adj-0]', location='TX', pos_info='621/6', tree_codes=''), ConceptMMI(index='00000000', mm='MMI', score='3.81', preferred_name='Finding of blood glucose level', cui='C0428554', semtypes='[lbtr]', trigger='[\"blood glucose levels\"-tx-1-\"blood glucose levels\"-noun-0]', location='TX', pos_info='346/20', tree_codes=''), ConceptMMI(index='00000000', mm='MMI', score='3.68', preferred_name='Awake', cui='C0234422', semtypes='[fndg]', trigger='[\"Awake\"-tx-1-\"awake\"-adj-0]', location='TX', pos_info='533/5', tree_codes=''), ConceptMMI(index='00000000', mm='MMI', score='3.61', preferred_name='Male Gender, Self Report', cui='C1706180', semtypes='[qlco]', trigger='[\"Male\"-tx-1-\"male\"-noun-0]', location='TX', pos_info='13/4', tree_codes=''), ConceptMMI(index='00000000', mm='MMI', score='3.59', preferred_name='Before', cui='C0332152', semtypes='[tmco]', trigger='[\"Prior to\"-tx-1-\"prior to\"-prep-0]', location='TX', pos_info='143/8', tree_codes=''), ConceptMMI(index='00000000', mm='MMI', score='3.57', preferred_name='Line Specimen', cui='C1550648', semtypes='[sbst]', trigger='[\"Line\"-tx-1-\"line\"-adj-0]', location='TX', pos_info='116/4', tree_codes=''), ConceptMMI(index='00000000', mm='MMI', score='3.56', preferred_name='Breathing bag', cui='C0179419', semtypes='[medd]', trigger='[\"ventilation bag\"-tx-1-\"bag ventilation\"-noun-0]', location='TX', pos_info='413/3,422/11', tree_codes=''), ConceptMMI(index='00000000', mm='MMI', score='3.55', preferred_name='Consciousness related finding', cui='C0009791', semtypes='[fndg]', trigger='[\"consciousness\"-tx-1-\"Consciousness\"-noun-0]', location='TX', pos_info='159/13', tree_codes=''), ConceptMMI(index='00000000', mm='MMI', score='3.55', preferred_name='Pail Dosing Unit', cui='C2825312', semtypes='[qnco]', trigger='[\"PAIL\"-tx-1-\"pail\"-noun-0]', location='TX', pos_info='219/4', tree_codes=''), ConceptMMI(index='00000000', mm='MMI', score='3.55', preferred_name='Rate', cui='C1521828', semtypes='[qnco]', trigger='[\"Rate\"-tx-1-\"rate\"-noun-0]', location='TX', pos_info='267/4', tree_codes=''), ConceptMMI(index='00000000', mm='MMI', score='3.55', preferred_name='Oxygen 25 %', cui='C1314710', semtypes='[clnd]', trigger='[\"Oxygen 25 %\"-tx-1-\"oxygen 25\"-noun-0]', location='TX', pos_info='463/6,486/2', tree_codes=''), ConceptMMI(index='00000000', mm='MMI', score='3.50', preferred_name='Now (temporal qualifier)', cui='C1948052', semtypes='[tmco]', trigger='[\"Now\"-tx-1-\"now\"-adv-0]', location='TX', pos_info='529/3', tree_codes=''), ConceptMMI(index='00000000', mm='MMI', score='3.50', preferred_name='Supplement', cui='C2348609', semtypes='[ftcn]', trigger='[\"Supplemental\"-tx-1-\"supplemental\"-adj-0]', location='TX', pos_info='634/12', tree_codes=''), ConceptMMI(index='00000000', mm='MMI', score='3.47', preferred_name='55', cui='C0450382', semtypes='[inpr]', trigger='[\"55\"-tx-1-\"55\"-integer-0]', location='TX', pos_info='1/2', tree_codes=''), ConceptMMI(index='00000000', mm='MMI', score='3.47', preferred_name='Old', cui='C0580836', semtypes='[tmco]', trigger='[\"Old\"-tx-1-\"old\"-noun-0]', location='TX', pos_info='9/3', tree_codes=''), ConceptMMI(index='00000000', mm='MMI', score='3.47', preferred_name='per year', cui='C0439508', semtypes='[tmco]', trigger='[\"/Year\"-tx-1-\"year\"-noun-0]', location='TX', pos_info='4/4', tree_codes=''), ConceptMMI(index='00000000', mm='MMI', score='3.45', preferred_name='Taking vital signs', cui='C0150404', semtypes='[hlca]', trigger='[\"Vital signs\"-tx-1-\"Vital Signs\"-noun-0]', location='TX', pos_info='579/11', tree_codes=''), ConceptMMI(index='00000000', mm='MMI', score='3.44', preferred_name='Shallow breathing', cui='C0221161', semtypes='[sosy]', trigger='[\"SHALLOW RESPIRATION\"-tx-1-\"shallow respirations\"-noun-0]', location='TX', pos_info='229/7,249/12', tree_codes=''), ConceptMMI(index='00000000', mm='MMI', score='3.43', preferred_name='car seat', cui='C0006939', semtypes='[mnob]', trigger='[\"car seat\"-tx-1-\"seat car\"-noun-0]', location='TX', pos_info='65/4,77/3', tree_codes=''), ConceptMMI(index='00000000', mm='MMI', score='3.43', preferred_name='Improvement', cui='C2986411', semtypes='[cnce]', trigger='[\"Improvement\"-tx-1-\"Improvement\"-noun-0]', location='TX', pos_info='567/11', tree_codes=''), ConceptMMI(index='00000000', mm='MMI', score='3.43', preferred_name='ineffective', cui='C3242229', semtypes='[idcn]', trigger='[\"ineffective\"-tx-1-\"ineffective\"-adj-0]', location='TX', pos_info='237/11', tree_codes=''), ConceptMMI(index='00000000', mm='MMI', score='3.42', preferred_name='Drivers of Vehicles', cui='C0684312', semtypes='[popg]', trigger='[\"driver\"-tx-1-\"driver\"-noun-0]', location='TX', pos_info='43/6', tree_codes=''), ConceptMMI(index='00000000', mm='MMI', score='3.42', preferred_name='Passenger', cui='C0450048', semtypes='[popg]', trigger='[\"Passenger\"-tx-1-\"passenger\"-noun-0]', location='TX', pos_info='55/9', tree_codes=''), ConceptMMI(index='00000000', mm='MMI', score='3.42', preferred_name='Side', cui='C0441987', semtypes='[spco]', trigger='[\"Side\"-tx-1-\"side\"-noun-0]', location='TX', pos_info='50/4', tree_codes=''), ConceptMMI(index='00000000', mm='MMI', score='3.42', preferred_name='0%', cui='C3842591', semtypes='[fndg]', trigger='[\"0%\"-tx-1-\"0\"-real_number-0]', location='TX', pos_info='484/1', tree_codes=''), ConceptMMI(index='00000000', mm='MMI', score='3.42', preferred_name='Magnesium Cation', cui='C2346927', semtypes='[elii,phsu]', trigger='[\"Mg++\"-tx-1-\"mg\"-noun-0]', location='TX', pos_info='489/2', tree_codes='')]\n",
      "                                   preferred_name       cui          semtypes  \\\n",
      "0                   Oxygen saturation measurement  C0523807            [lbpr]   \n",
      "1                               Unconscious State  C0041657            [fndg]   \n",
      "2                                          Heroin  C0011892  [hops,orch,phsu]   \n",
      "3                                  Blood Pressure  C0005823            [orgf]   \n",
      "4                                      heart rate  C0018810            [clna]   \n",
      "5                                        Naloxone  C0027358       [orch,phsu]   \n",
      "6                                        Patients  C0030705            [podg]   \n",
      "7                                          Oxygen  C0030054       [elii,phsu]   \n",
      "8                                     Respiration  C0035203            [phsf]   \n",
      "9                                           Masks  C0024861            [medd]   \n",
      "10        Patient need for (contextual qualifier)  C0686904            [ftcn]   \n",
      "11                                        Present  C0150312            [qnco]   \n",
      "12                                   Presentation  C0449450            [idcn]   \n",
      "13                                      Reporting  C0700287            [hlca]   \n",
      "14  Respiratory Status:-:Point in time:^Patient:-  C2598168            [clna]   \n",
      "15                      Unresponsive to Treatment  C0205269            [ftcn]   \n",
      "16                                           wife  C0242665            [famg]   \n",
      "17                                           Long  C0205166            [qlco]   \n",
      "18                 Finding of blood glucose level  C0428554            [lbtr]   \n",
      "19                                          Awake  C0234422            [fndg]   \n",
      "20                       Male Gender, Self Report  C1706180            [qlco]   \n",
      "21                                         Before  C0332152            [tmco]   \n",
      "22                                  Line Specimen  C1550648            [sbst]   \n",
      "23                                  Breathing bag  C0179419            [medd]   \n",
      "24                  Consciousness related finding  C0009791            [fndg]   \n",
      "25                               Pail Dosing Unit  C2825312            [qnco]   \n",
      "26                                           Rate  C1521828            [qnco]   \n",
      "27                                    Oxygen 25 %  C1314710            [clnd]   \n",
      "28                       Now (temporal qualifier)  C1948052            [tmco]   \n",
      "29                                     Supplement  C2348609            [ftcn]   \n",
      "30                                             55  C0450382            [inpr]   \n",
      "31                                            Old  C0580836            [tmco]   \n",
      "32                                       per year  C0439508            [tmco]   \n",
      "33                             Taking vital signs  C0150404            [hlca]   \n",
      "34                              Shallow breathing  C0221161            [sosy]   \n",
      "35                                       car seat  C0006939            [mnob]   \n",
      "36                                    Improvement  C2986411            [cnce]   \n",
      "37                                    ineffective  C3242229            [idcn]   \n",
      "38                            Drivers of Vehicles  C0684312            [popg]   \n",
      "39                                      Passenger  C0450048            [popg]   \n",
      "40                                           Side  C0441987            [spco]   \n",
      "41                                             0%  C3842591            [fndg]   \n",
      "42                               Magnesium Cation  C2346927       [elii,phsu]   \n",
      "\n",
      "           pos_info  \n",
      "0            375/13  \n",
      "1             24/11  \n",
      "2             124/6  \n",
      "3            311/14  \n",
      "4            288/10  \n",
      "5             495/8  \n",
      "6   [173/7],[518/7]  \n",
      "7             647/6  \n",
      "8             543/9  \n",
      "9             417/4  \n",
      "10            628/5  \n",
      "11             18/5  \n",
      "12            192/9  \n",
      "13             89/8  \n",
      "14           595/18  \n",
      "15           202/12  \n",
      "16             84/4  \n",
      "17            621/6  \n",
      "18           346/20  \n",
      "19            533/5  \n",
      "20             13/4  \n",
      "21            143/8  \n",
      "22            116/4  \n",
      "23     413/3,422/11  \n",
      "24           159/13  \n",
      "25            219/4  \n",
      "26            267/4  \n",
      "27      463/6,486/2  \n",
      "28            529/3  \n",
      "29           634/12  \n",
      "30              1/2  \n",
      "31              9/3  \n",
      "32              4/4  \n",
      "33           579/11  \n",
      "34     229/7,249/12  \n",
      "35        65/4,77/3  \n",
      "36           567/11  \n",
      "37           237/11  \n",
      "38             43/6  \n",
      "39             55/9  \n",
      "40             50/4  \n",
      "41            484/1  \n",
      "42            489/2  \n"
     ]
    }
   ],
   "source": [
    "cons, errs = metam.extract_concepts(note_list,\n",
    "                                word_sense_disambiguation = True,\n",
    "                                # restrict_to_sts = ['sosy'], # signs and symptoms\n",
    "                                ignore_stop_phrases=True,\n",
    "                                )\n",
    "                                               \n",
    "# Look at the output:\n",
    "print(cons)\n",
    "\n",
    "\n",
    "def get_keys_from_mm(concept, klist):\n",
    "    conc_dict = concept._asdict()\n",
    "    conc_list = [conc_dict.get(kk) for kk in klist]\n",
    "    return(tuple(conc_list))\n",
    "        \n",
    "        \n",
    "keys_of_interest = ['preferred_name', 'cui', 'semtypes', 'pos_info']\n",
    "cols = [get_keys_from_mm(cc, keys_of_interest) for cc in cons]\n",
    "results_df = pd.DataFrame(cols, columns = keys_of_interest)\n",
    "\n",
    "# See results\n",
    "print(results_df)"
   ]
  }
 ],
 "metadata": {
  "kernelspec": {
   "display_name": "EMSProject",
   "language": "python",
   "name": "python3"
  },
  "language_info": {
   "codemirror_mode": {
    "name": "ipython",
    "version": 3
   },
   "file_extension": ".py",
   "mimetype": "text/x-python",
   "name": "python",
   "nbconvert_exporter": "python",
   "pygments_lexer": "ipython3",
   "version": "3.10.9"
  },
  "orig_nbformat": 4
 },
 "nbformat": 4,
 "nbformat_minor": 2
}
