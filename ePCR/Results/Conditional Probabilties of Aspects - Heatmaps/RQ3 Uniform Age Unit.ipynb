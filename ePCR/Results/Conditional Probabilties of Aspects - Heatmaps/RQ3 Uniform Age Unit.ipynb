{
 "cells": [
  {
   "cell_type": "code",
   "execution_count": 1,
   "metadata": {},
   "outputs": [],
   "source": [
    "'''\n",
    "    RQ3: Relationship between weight, age, gender and Chief Complaint/Call Type \n",
    "    \n",
    "    *have to convert age units not in year to year\n",
    "'''\n",
    "\n",
    "\n",
    "#importing what we need\n",
    "import pandas as pd \n",
    "import numpy as np"
   ]
  },
  {
   "cell_type": "code",
   "execution_count": 2,
   "metadata": {},
   "outputs": [
    {
     "data": {
      "text/html": [
       "<div>\n",
       "<style scoped>\n",
       "    .dataframe tbody tr th:only-of-type {\n",
       "        vertical-align: middle;\n",
       "    }\n",
       "\n",
       "    .dataframe tbody tr th {\n",
       "        vertical-align: top;\n",
       "    }\n",
       "\n",
       "    .dataframe thead th {\n",
       "        text-align: right;\n",
       "    }\n",
       "</style>\n",
       "<table border=\"1\" class=\"dataframe\">\n",
       "  <thead>\n",
       "    <tr style=\"text-align: right;\">\n",
       "      <th></th>\n",
       "      <th>Uniform Chief Complaints</th>\n",
       "      <th>CallType</th>\n",
       "      <th>Age</th>\n",
       "      <th>Gender</th>\n",
       "      <th>Weight</th>\n",
       "      <th>Weight Class</th>\n",
       "    </tr>\n",
       "    <tr>\n",
       "      <th>ID</th>\n",
       "      <th></th>\n",
       "      <th></th>\n",
       "      <th></th>\n",
       "      <th></th>\n",
       "      <th></th>\n",
       "      <th></th>\n",
       "    </tr>\n",
       "  </thead>\n",
       "  <tbody>\n",
       "    <tr>\n",
       "      <th>2020_2</th>\n",
       "      <td>{Flank Pain}{Shortness of Breath}</td>\n",
       "      <td>Breathing Problems</td>\n",
       "      <td>51 year</td>\n",
       "      <td>F</td>\n",
       "      <td>113 KG</td>\n",
       "      <td>obese</td>\n",
       "    </tr>\n",
       "    <tr>\n",
       "      <th>2020_3</th>\n",
       "      <td>{Dizziness}{Nausea }{Overdose/Poisoning/Alcoho...</td>\n",
       "      <td>Breathing Problems</td>\n",
       "      <td>29 year</td>\n",
       "      <td>F</td>\n",
       "      <td></td>\n",
       "      <td></td>\n",
       "    </tr>\n",
       "  </tbody>\n",
       "</table>\n",
       "</div>"
      ],
      "text/plain": [
       "                                 Uniform Chief Complaints            CallType  \\\n",
       "ID                                                                              \n",
       "2020_2                  {Flank Pain}{Shortness of Breath}  Breathing Problems   \n",
       "2020_3  {Dizziness}{Nausea }{Overdose/Poisoning/Alcoho...  Breathing Problems   \n",
       "\n",
       "            Age Gender  Weight Weight Class  \n",
       "ID                                           \n",
       "2020_2  51 year      F  113 KG        obese  \n",
       "2020_3  29 year      F                       "
      ]
     },
     "execution_count": 2,
     "metadata": {},
     "output_type": "execute_result"
    }
   ],
   "source": [
    "data = pd.read_excel('RQ3.xlsx').set_index('ID').fillna('')\n",
    "\n",
    "data.head(2)"
   ]
  },
  {
   "cell_type": "code",
   "execution_count": 3,
   "metadata": {},
   "outputs": [],
   "source": [
    "for index, row in data.iterrows():\n",
    "    age = row['Age']\n",
    "    index = age.find(' ')\n",
    "    #print(age)\n",
    "    if index != -1:\n",
    "        number = int(age[0:index])\n",
    "        unit = age[index+1:]\n",
    "        if unit == 'minute': \n",
    "            row['Age'] = str(number/525600) + ' year'\n",
    "        elif unit == 'hour':\n",
    "            row['Age'] = str(number/8760) + ' year'\n",
    "        elif unit == 'day':\n",
    "            row['Age'] = str(number/365) + ' year'\n",
    "        elif unit == 'month' or unit == 'Month':\n",
    "            row['Age'] = str(number/12) + ' year'"
   ]
  },
  {
   "cell_type": "code",
   "execution_count": 4,
   "metadata": {},
   "outputs": [],
   "source": [
    "# #join together\n",
    "\n",
    "# #delete all that are not year\n",
    "# data['Age'][data['Age'].str.contains('year', regex=True, na=True) == False] = ''\n",
    "# data['Age'] = data['Age'].fillna('')"
   ]
  },
  {
   "cell_type": "code",
   "execution_count": 5,
   "metadata": {},
   "outputs": [],
   "source": [
    "data.to_excel('RQ3 Converted.xlsx')"
   ]
  },
  {
   "cell_type": "code",
   "execution_count": null,
   "metadata": {},
   "outputs": [],
   "source": []
  },
  {
   "cell_type": "code",
   "execution_count": null,
   "metadata": {},
   "outputs": [],
   "source": []
  }
 ],
 "metadata": {
  "kernelspec": {
   "display_name": "Python 3",
   "language": "python",
   "name": "python3"
  },
  "language_info": {
   "codemirror_mode": {
    "name": "ipython",
    "version": 3
   },
   "file_extension": ".py",
   "mimetype": "text/x-python",
   "name": "python",
   "nbconvert_exporter": "python",
   "pygments_lexer": "ipython3",
   "version": "3.8.5"
  }
 },
 "nbformat": 4,
 "nbformat_minor": 4
}
