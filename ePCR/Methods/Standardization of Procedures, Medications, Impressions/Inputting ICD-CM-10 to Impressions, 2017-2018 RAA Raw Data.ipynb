{
 "cells": [
  {
   "cell_type": "code",
   "execution_count": 1,
   "metadata": {},
   "outputs": [],
   "source": [
    "'''\n",
    "    import dictionaries\n",
    "    write to files\n",
    "    format {Medication/Prod/Impress (UniqueID)}\n",
    "'''\n",
    "import pandas as pd\n",
    "\n",
    "years = [\"2018\", \"2017\"] #if we get new data, we can just add that here\n",
    "dataframes = []\n",
    "\n",
    "\n",
    "for year in years: \n",
    "    dataframe = pd.read_excel('RAA Data ' + year + ' separated with ID cleaned.xlsx')\n",
    "    dataframes.append(dataframe)"
   ]
  },
  {
   "cell_type": "code",
   "execution_count": 2,
   "metadata": {},
   "outputs": [
    {
     "ename": "KeyError",
     "evalue": "\"None of ['ICD-10'] are in the columns\"",
     "output_type": "error",
     "traceback": [
      "\u001b[1;31m---------------------------------------------------------------------------\u001b[0m",
      "\u001b[1;31mKeyError\u001b[0m                                  Traceback (most recent call last)",
      "\u001b[1;32m<ipython-input-2-dd3afbddd56d>\u001b[0m in \u001b[0;36m<module>\u001b[1;34m\u001b[0m\n\u001b[0;32m      3\u001b[0m \u001b[1;31m#import med dict\u001b[0m\u001b[1;33m\u001b[0m\u001b[1;33m\u001b[0m\u001b[1;33m\u001b[0m\u001b[0m\n\u001b[0;32m      4\u001b[0m \u001b[0mget_ipython\u001b[0m\u001b[1;33m(\u001b[0m\u001b[1;33m)\u001b[0m\u001b[1;33m.\u001b[0m\u001b[0mrun_line_magic\u001b[0m\u001b[1;33m(\u001b[0m\u001b[1;34m'store'\u001b[0m\u001b[1;33m,\u001b[0m \u001b[1;34m'-r'\u001b[0m\u001b[1;33m)\u001b[0m\u001b[1;33m\u001b[0m\u001b[1;33m\u001b[0m\u001b[0m\n\u001b[1;32m----> 5\u001b[1;33m \u001b[0mimp_id_dict\u001b[0m \u001b[1;33m=\u001b[0m \u001b[0mpd\u001b[0m\u001b[1;33m.\u001b[0m\u001b[0mread_excel\u001b[0m\u001b[1;33m(\u001b[0m\u001b[1;34m'Complied list of Impressions.xlsx'\u001b[0m\u001b[1;33m,\u001b[0m \u001b[0msheet_name\u001b[0m\u001b[1;33m=\u001b[0m\u001b[1;34m'Grouped Data'\u001b[0m \u001b[1;33m)\u001b[0m\u001b[1;33m.\u001b[0m\u001b[0mset_index\u001b[0m\u001b[1;33m(\u001b[0m\u001b[1;34m'ICD-10'\u001b[0m\u001b[1;33m)\u001b[0m\u001b[1;33m.\u001b[0m\u001b[0mT\u001b[0m\u001b[1;33m.\u001b[0m\u001b[0mto_dict\u001b[0m\u001b[1;33m(\u001b[0m\u001b[1;34m'list'\u001b[0m\u001b[1;33m)\u001b[0m\u001b[1;33m\u001b[0m\u001b[1;33m\u001b[0m\u001b[0m\n\u001b[0m\u001b[0;32m      6\u001b[0m \u001b[0mimp_s_dict\u001b[0m \u001b[1;33m=\u001b[0m \u001b[1;33m{\u001b[0m\u001b[1;33m}\u001b[0m\u001b[1;33m\u001b[0m\u001b[1;33m\u001b[0m\u001b[0m\n\u001b[0;32m      7\u001b[0m \u001b[1;32mfor\u001b[0m \u001b[0micd\u001b[0m\u001b[1;33m,\u001b[0m \u001b[0ms_list\u001b[0m \u001b[1;32min\u001b[0m \u001b[0mimp_id_dict\u001b[0m\u001b[1;33m.\u001b[0m\u001b[0mitems\u001b[0m\u001b[1;33m(\u001b[0m\u001b[1;33m)\u001b[0m\u001b[1;33m:\u001b[0m\u001b[1;33m\u001b[0m\u001b[1;33m\u001b[0m\u001b[0m\n",
      "\u001b[1;32m~\\anaconda3\\lib\\site-packages\\pandas\\core\\frame.py\u001b[0m in \u001b[0;36mset_index\u001b[1;34m(self, keys, drop, append, inplace, verify_integrity)\u001b[0m\n\u001b[0;32m   4549\u001b[0m \u001b[1;33m\u001b[0m\u001b[0m\n\u001b[0;32m   4550\u001b[0m         \u001b[1;32mif\u001b[0m \u001b[0mmissing\u001b[0m\u001b[1;33m:\u001b[0m\u001b[1;33m\u001b[0m\u001b[1;33m\u001b[0m\u001b[0m\n\u001b[1;32m-> 4551\u001b[1;33m             \u001b[1;32mraise\u001b[0m \u001b[0mKeyError\u001b[0m\u001b[1;33m(\u001b[0m\u001b[1;34mf\"None of {missing} are in the columns\"\u001b[0m\u001b[1;33m)\u001b[0m\u001b[1;33m\u001b[0m\u001b[1;33m\u001b[0m\u001b[0m\n\u001b[0m\u001b[0;32m   4552\u001b[0m \u001b[1;33m\u001b[0m\u001b[0m\n\u001b[0;32m   4553\u001b[0m         \u001b[1;32mif\u001b[0m \u001b[0minplace\u001b[0m\u001b[1;33m:\u001b[0m\u001b[1;33m\u001b[0m\u001b[1;33m\u001b[0m\u001b[0m\n",
      "\u001b[1;31mKeyError\u001b[0m: \"None of ['ICD-10'] are in the columns\""
     ]
    }
   ],
   "source": [
    "# Impression RXCUI \n",
    "\n",
    "#import med dict\n",
    "%store -r \n",
    "imp_id_dict = pd.read_excel('Complied list of Impressions.xlsx', sheet_name='Grouped Data' ).set_index('ICD-10').T.to_dict('list')\n",
    "imp_s_dict = {}\n",
    "for icd, s_list in imp_id_dict.items():\n",
    "    for i in range(len(s_list)):\n",
    "        s = s_list[i]\n",
    "        if s not in imp_s_dict:\n",
    "            imp_s_dict[s] = ''\n",
    "        imp_s_dict[s] = icd\n",
    "        \n",
    "        \n",
    "#med dict\n",
    "# key: string, medicine. value: INT, id\n",
    "imp_s_dict\n"
   ]
  },
  {
   "cell_type": "code",
   "execution_count": null,
   "metadata": {
    "scrolled": true
   },
   "outputs": [],
   "source": [
    "#for each element in {}, add ID at end in (1234)\n",
    "\n",
    "new_columns = []\n",
    "missing_imps = set()\n",
    "\n",
    "for i in range(len(years)):\n",
    "    df = dataframes[i]\n",
    "    \n",
    "    col_wo_b = df['Impression'].str[1:-1] #remove {} \n",
    "    impression = col_wo_b.str.split('}{')\n",
    "    \n",
    "    col_w_id = []\n",
    "    \n",
    "    \n",
    "    for row in range(len(impression)):\n",
    "        new_row = ''\n",
    "        try: #for NaN values\n",
    "            for each in impression[row]:\n",
    "                if each in imp_s_dict:\n",
    "                    icd = imp_s_dict[each]\n",
    "                    new_row += '{' + each + ' (' + str(icd) + ')}' \n",
    "                else:\n",
    "                    missing_imps.add(each)\n",
    "                    new_row += '{' + each + ' (XXXX)}' \n",
    "\n",
    "            col_w_id.append(new_row)\n",
    "                    \n",
    "        except TypeError:\n",
    "            col_w_id.append('') #blank string when there is no impression\n",
    "    \n",
    "    #after complete df, add arrays to matrix\n",
    "    new_columns.append(col_w_id)"
   ]
  },
  {
   "cell_type": "code",
   "execution_count": null,
   "metadata": {},
   "outputs": [],
   "source": [
    "missing_imps"
   ]
  },
  {
   "cell_type": "code",
   "execution_count": null,
   "metadata": {},
   "outputs": [],
   "source": [
    "new_columns"
   ]
  },
  {
   "cell_type": "code",
   "execution_count": null,
   "metadata": {},
   "outputs": [],
   "source": [
    "#replace Impression column with new columns\n",
    "\n",
    "for i in range(len(years)):\n",
    "    df = dataframes[i]\n",
    "    new_col = new_columns[i]\n",
    "    \n",
    "    print(len(new_col))\n",
    "    \n",
    "    df['Impression'] = new_col"
   ]
  },
  {
   "cell_type": "code",
   "execution_count": null,
   "metadata": {},
   "outputs": [],
   "source": [
    "#check df\n",
    "dataframes[0]"
   ]
  },
  {
   "cell_type": "code",
   "execution_count": null,
   "metadata": {},
   "outputs": [],
   "source": [
    "#write out dataframes\n",
    "\n",
    "# write out data\n",
    "for i in range(len(years)): \n",
    "    dataframes[i].to_excel('RAA Data ' + years[i] + ' ICD-10-CM with ID cleaned.xlsx')"
   ]
  }
 ],
 "metadata": {
  "kernelspec": {
   "display_name": "Python 3",
   "language": "python",
   "name": "python3"
  },
  "language_info": {
   "codemirror_mode": {
    "name": "ipython",
    "version": 3
   },
   "file_extension": ".py",
   "mimetype": "text/x-python",
   "name": "python",
   "nbconvert_exporter": "python",
   "pygments_lexer": "ipython3",
   "version": "3.8.5"
  }
 },
 "nbformat": 4,
 "nbformat_minor": 4
}
